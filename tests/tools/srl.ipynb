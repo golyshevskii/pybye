{
 "cells": [
  {
   "cell_type": "code",
   "execution_count": 1,
   "metadata": {},
   "outputs": [],
   "source": [
    "import os\n",
    "import sys\n",
    "\n",
    "from dotenv import load_dotenv\n",
    "\n",
    "current_dir = os.getcwd()\n",
    "while True:\n",
    "    if os.path.basename(current_dir) == \"pybye\":\n",
    "        break\n",
    "    parent_dir = os.path.dirname(current_dir)\n",
    "    if parent_dir == current_dir:\n",
    "        raise Exception(\"pybye not found\")\n",
    "    current_dir = parent_dir\n",
    "\n",
    "env_path = os.path.join(current_dir, \".env\")\n",
    "load_dotenv(dotenv_path=env_path)\n",
    "\n",
    "sys.path.append(current_dir)"
   ]
  },
  {
   "cell_type": "code",
   "execution_count": 37,
   "metadata": {},
   "outputs": [],
   "source": [
    "import pandas as pd\n",
    "from config import MEXC_DATA_PATH\n",
    "\n",
    "kline = pd.read_csv(f\"C:/Users/Slava/crypto/pybye/{MEXC_DATA_PATH}kline/mexc_kline_WIF_USDT_futures_Min15.csv\")"
   ]
  },
  {
   "cell_type": "code",
   "execution_count": null,
   "metadata": {},
   "outputs": [],
   "source": [
    "kline.head(3)"
   ]
  },
  {
   "cell_type": "code",
   "execution_count": null,
   "metadata": {},
   "outputs": [],
   "source": [
    "kline[\"Time\"] = pd.to_datetime(kline[\"Time\"], utc=True)\n",
    "kline.Time.head(3)"
   ]
  },
  {
   "cell_type": "code",
   "execution_count": null,
   "metadata": {},
   "outputs": [],
   "source": [
    "kline.set_index(\"Time\", inplace=True)\n",
    "kline = kline[[\"Open\", \"High\", \"Low\", \"Close\", \"Volume\"]]\n",
    "kline.head(3)"
   ]
  },
  {
   "cell_type": "code",
   "execution_count": null,
   "metadata": {},
   "outputs": [],
   "source": [
    "import mplfinance as mpf\n",
    "\n",
    "mpf.plot(kline.head(100), type='candle', style='charles', title='Candlestick Chart', volume=True, figratio=(35, 9))"
   ]
  },
  {
   "cell_type": "code",
   "execution_count": 17,
   "metadata": {},
   "outputs": [],
   "source": [
    "# distance. Specifies the minimum number of data points between consecutive peaks.\n",
    "# This helps avoid detecting too many peaks too close to each other.\n",
    "\n",
    "# prominence. A peak’s prominence represents how much it stands out from the surrounding data.\n",
    "# The higher the prominence, the more significant the peak."
   ]
  },
  {
   "cell_type": "code",
   "execution_count": null,
   "metadata": {},
   "outputs": [],
   "source": [
    "import scipy as sp\n",
    "\n",
    "\n",
    "# Define the distance between strong peaks (in days).\n",
    "strong_peak_distance = 10\n",
    "\n",
    "# Define the prominence (how high the peaks are compared to their surroundings).\n",
    "strong_peak_prominence = 0.5\n",
    "\n",
    "# Find the strong peaks in the 'high' price data\n",
    "strong_peaks, _ = sp.signal.find_peaks(\n",
    "  kline['High'],\n",
    "  distance=strong_peak_distance,\n",
    "  prominence=strong_peak_prominence\n",
    ")\n",
    "\n",
    "# Extract the corresponding high values of the strong peaks\n",
    "strong_peaks_values = kline.iloc[strong_peaks][\"High\"].values.tolist()\n",
    "strong_peaks_values[:4]"
   ]
  },
  {
   "cell_type": "code",
   "execution_count": null,
   "metadata": {},
   "outputs": [],
   "source": [
    "import numpy as np\n",
    "\n",
    "# Create a list of horizontal lines to plot as resistance levels\n",
    "add_plot = [mpf.make_addplot(np.full(kline.shape[0], resistance), color='r', linestyle='--') for resistance in strong_peaks_values]\n",
    "\n",
    "# Plot the candlestick chart with resistance lines\n",
    "mpf.plot(\n",
    "    kline, \n",
    "    type='candle', \n",
    "    style='charles', \n",
    "    title='Candlestick Chart with Strong Resistance Lines',\n",
    "    volume=True, \n",
    "    addplot=add_plot,\n",
    "    figratio=(35, 9)\n",
    ")"
   ]
  },
  {
   "cell_type": "code",
   "execution_count": 33,
   "metadata": {},
   "outputs": [],
   "source": [
    "# Define the shorter distance between general peaks (in days)\n",
    "# This controls how far apart peaks need to be to be considered separate.\n",
    "peak_distance = 5\n",
    "\n",
    "# Define the width (vertical distance) where peaks within this range will be grouped together.\n",
    "# If the high prices of two peaks are closer than this value, they will be merged into a single resistance level.\n",
    "peak_rank_width = 1\n",
    "\n",
    "# Define the threshold for how many times the stock has to reject a level\n",
    "# Before it becomes a resistance level\n",
    "resistance_min_pivot_rank = 2\n",
    "\n",
    "# Find general peaks in the stock's 'high' prices based on the defined distance between them.\n",
    "# The peaks variable will store the indices of the high points in the 'high' price data.\n",
    "peaks, _ = sp.signal.find_peaks(kline['High'], distance=peak_distance)\n",
    "\n",
    "# Initialize a dictionary to track the rank of each peak\n",
    "peak_to_rank = {peak: 0 for peak in peaks}\n",
    "\n",
    "# Loop through all general peaks to compare their proximity and rank them\n",
    "for i, current_peak in enumerate(peaks):\n",
    "    # Get the current peak's high price\n",
    "    current_high = kline.iloc[current_peak][\"High\"]\n",
    "    \n",
    "    # Compare the current peak with previous peaks to calculate rank based on proximity\n",
    "    for previous_peak in peaks[:i]:\n",
    "        if abs(current_high - kline.iloc[previous_peak][\"High\"]) <= peak_rank_width:\n",
    "            # Increase rank if the current peak is close to a previous peak\n",
    "            peak_to_rank[current_peak] += 1"
   ]
  },
  {
   "cell_type": "code",
   "execution_count": null,
   "metadata": {},
   "outputs": [],
   "source": [
    "# Initialize the list of resistance levels with the strong peaks already identified.\n",
    "resistances = strong_peaks_values\n",
    "\n",
    "# Now, go through each general peak and add it to the resistance list if its rank meets the minimum threshold.\n",
    "for peak, rank in peak_to_rank.items():\n",
    "    # If the peak's rank is greater than or equal to the resistance_min_pivot_rank, \n",
    "    # it means this peak level has been rejected enough times to be considered a resistance level.\n",
    "    if rank >= resistance_min_pivot_rank:\n",
    "        # Append the peak's high price to the resistances list, adding a small offset (1e-3) \n",
    "        # to avoid floating-point precision issues during the comparison.\n",
    "        resistances.append(kline.iloc[peak][\"High\"] + 1e-3)\n",
    "\n",
    "# Sort the list of resistance levels so that they are in ascending order.\n",
    "resistances.sort()\n",
    "resistances[:4]"
   ]
  },
  {
   "cell_type": "code",
   "execution_count": null,
   "metadata": {},
   "outputs": [],
   "source": [
    "# Initialize a list to hold bins of resistance levels that are close to each other.\n",
    "resistance_bins = []\n",
    "\n",
    "# Start the first bin with the first resistance level.\n",
    "current_bin = [resistances[0]]\n",
    "\n",
    "# Loop through the sorted resistance levels.\n",
    "for r in resistances:\n",
    "    # If the difference between the current resistance level and the last one in the current bin \n",
    "    # is smaller than a certain threshold (defined by peak_rank_w_pct), add it to the current bin.\n",
    "    if r - current_bin[-1] < peak_rank_width:\n",
    "        current_bin.append(r)\n",
    "    else:\n",
    "        # If the current resistance level is far enough from the last one, close the current bin\n",
    "        # and start a new one.\n",
    "        resistance_bins.append(current_bin)\n",
    "        current_bin = [r]\n",
    "\n",
    "# Append the last bin.\n",
    "resistance_bins.append(current_bin)\n",
    "\n",
    "# For each bin, calculate the average of the resistances within that bin.\n",
    "# This will produce a clean list of resistance levels where nearby peaks have been merged.\n",
    "resistances = [np.mean(bin) for bin in resistance_bins]\n",
    "resistances[:4]"
   ]
  },
  {
   "cell_type": "code",
   "execution_count": null,
   "metadata": {},
   "outputs": [],
   "source": [
    "# Create a list of horizontal lines to plot as resistance levels\n",
    "add_plot = [mpf.make_addplot(np.full(kline.shape[0], resistance), color='r', linestyle='--') for resistance in resistances]\n",
    "\n",
    "# Plot the candlestick chart with resistance lines\n",
    "mpf.plot(\n",
    "    kline, \n",
    "    type='candle', \n",
    "    style='charles', \n",
    "    title='Candlestick Chart with Strong Resistance Lines',\n",
    "    volume=True, \n",
    "    addplot=add_plot,\n",
    "    figratio=(35, 9)\n",
    ")"
   ]
  },
  {
   "cell_type": "code",
   "execution_count": null,
   "metadata": {},
   "outputs": [],
   "source": []
  }
 ],
 "metadata": {
  "kernelspec": {
   "display_name": "venv",
   "language": "python",
   "name": "python3"
  },
  "language_info": {
   "codemirror_mode": {
    "name": "ipython",
    "version": 3
   },
   "file_extension": ".py",
   "mimetype": "text/x-python",
   "name": "python",
   "nbconvert_exporter": "python",
   "pygments_lexer": "ipython3",
   "version": "3.11.0"
  }
 },
 "nbformat": 4,
 "nbformat_minor": 2
}
