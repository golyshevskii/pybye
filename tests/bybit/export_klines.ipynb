{
 "cells": [
  {
   "cell_type": "code",
   "execution_count": null,
   "metadata": {},
   "outputs": [],
   "source": [
    "import os\n",
    "import sys\n",
    "\n",
    "from dotenv import load_dotenv\n",
    "\n",
    "current_dir = os.getcwd()\n",
    "while True:\n",
    "    if os.path.basename(current_dir) == \"pybye\":\n",
    "        break\n",
    "    parent_dir = os.path.dirname(current_dir)\n",
    "    if parent_dir == current_dir:\n",
    "        raise Exception(\"pybye not found\")\n",
    "    current_dir = parent_dir\n",
    "\n",
    "env_path = os.path.join(current_dir, \".env\")\n",
    "load_dotenv(dotenv_path=env_path)\n",
    "\n",
    "BYBIT_DEMO_API_KEY = os.getenv(\"BYBIT_DEMO_API_KEY\")\n",
    "BYBIT_DEMO_API_SECRET = os.getenv(\"BYBIT_DEMO_API_SECRET\")\n",
    "\n",
    "sys.path.append(current_dir)"
   ]
  },
  {
   "cell_type": "code",
   "execution_count": null,
   "metadata": {},
   "outputs": [],
   "source": [
    "from pybit.unified_trading import HTTP\n",
    "\n",
    "session = HTTP(api_key=BYBIT_DEMO_API_KEY, api_secret=BYBIT_DEMO_API_SECRET)\n",
    "\n",
    "from datetime import datetime, timedelta, timezone\n",
    "\n",
    "from core.scripts.tools.dtt import to_unix\n",
    "end = datetime.now(timezone.utc)\n",
    "start = end - timedelta(days=20)\n",
    "\n",
    "print(start, end)\n",
    "\n",
    "data = session.get_kline(\n",
    "    category=\"spot\", symbol=\"PEPEUSDT\", interval=\"D\", start=to_unix(start) * 1000, end=to_unix(end) * 1000\n",
    ")"
   ]
  },
  {
   "cell_type": "code",
   "execution_count": null,
   "metadata": {},
   "outputs": [],
   "source": [
    "from core.scripts.tools.packers import pack_kline\n",
    "\n",
    "packed_data = pack_kline(\n",
    "    symbol=\"PEPEUSDT\",\n",
    "    kline=data[\"result\"][\"list\"],\n",
    "    columns=[\"start_time\", \"open_price\", \"high_price\", \"low_price\", \"close_price\", \"volume\", \"turnover\"],\n",
    "    sort=True,\n",
    ")"
   ]
  },
  {
   "cell_type": "code",
   "execution_count": null,
   "metadata": {},
   "outputs": [],
   "source": []
  }
 ],
 "metadata": {
  "kernelspec": {
   "display_name": "venv",
   "language": "python",
   "name": "python3"
  },
  "language_info": {
   "codemirror_mode": {
    "name": "ipython",
    "version": 3
   },
   "file_extension": ".py",
   "mimetype": "text/x-python",
   "name": "python",
   "nbconvert_exporter": "python",
   "pygments_lexer": "ipython3",
   "version": "3.11.0"
  }
 },
 "nbformat": 4,
 "nbformat_minor": 2
}
