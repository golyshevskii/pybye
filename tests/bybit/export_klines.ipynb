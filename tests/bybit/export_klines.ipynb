{
 "cells": [
  {
   "cell_type": "code",
   "execution_count": 1,
   "metadata": {},
   "outputs": [],
   "source": [
    "import os\n",
    "import sys\n",
    "\n",
    "from dotenv import load_dotenv\n",
    "\n",
    "current_dir = os.getcwd()\n",
    "while True:\n",
    "    if os.path.basename(current_dir) == \"pybye\":\n",
    "        break\n",
    "    parent_dir = os.path.dirname(current_dir)\n",
    "    if parent_dir == current_dir:\n",
    "        raise Exception(\"pybye not found\")\n",
    "    current_dir = parent_dir\n",
    "\n",
    "env_path = os.path.join(current_dir, \".env\")\n",
    "load_dotenv(dotenv_path=env_path)\n",
    "\n",
    "BYBIT_DEMO_API_KEY = os.getenv(\"BYBIT_DEMO_API_KEY\")\n",
    "BYBIT_DEMO_API_SECRET = os.getenv(\"BYBIT_DEMO_API_SECRET\")\n",
    "\n",
    "sys.path.append(current_dir)"
   ]
  },
  {
   "cell_type": "code",
   "execution_count": 9,
   "metadata": {},
   "outputs": [
    {
     "name": "stdout",
     "output_type": "stream",
     "text": [
      "2024-09-11 17:12:54.960262+00:00 2024-09-27 17:12:54.960262+00:00\n"
     ]
    }
   ],
   "source": [
    "from pybit.unified_trading import HTTP\n",
    "\n",
    "session = HTTP(api_key=BYBIT_DEMO_API_KEY, api_secret=BYBIT_DEMO_API_SECRET)\n",
    "\n",
    "from datetime import datetime, timedelta, timezone\n",
    "\n",
    "from core.scripts.tools.dtt import to_unix\n",
    "end = datetime.now(timezone.utc)\n",
    "start = end - timedelta(days=16)\n",
    "\n",
    "print(start, end)\n",
    "\n",
    "data = session.get_kline(\n",
    "    category=\"spot\", symbol=\"NOTUSDT\", interval=\"D\", start=to_unix(start) * 1000, end=to_unix(end) * 1000\n",
    ")"
   ]
  },
  {
   "cell_type": "code",
   "execution_count": 10,
   "metadata": {},
   "outputs": [
    {
     "name": "stderr",
     "output_type": "stream",
     "text": [
      "2024-09-27 17:12:57,014 | core.scripts.tools.packers | INFO: Data has been packed. Shape: (17, 7).\n"
     ]
    }
   ],
   "source": [
    "from core.scripts.tools.packers import pack_data\n",
    "\n",
    "packed_data = pack_data(\n",
    "    data[\"result\"][\"list\"],\n",
    "    [\"start_time\", \"open_price\", \"high_price\", \"low_price\", \"close_price\", \"volume\", \"turnover\"],\n",
    ")"
   ]
  },
  {
   "cell_type": "code",
   "execution_count": 11,
   "metadata": {},
   "outputs": [
    {
     "name": "stderr",
     "output_type": "stream",
     "text": [
      "C:\\Users\\Slava\\AppData\\Local\\Temp\\ipykernel_12896\\2564682978.py:3: FutureWarning: The behavior of 'to_datetime' with 'unit' when parsing strings is deprecated. In a future version, strings will be parsed as datetime strings, matching the behavior without a 'unit'. To retain the old behavior, explicitly cast ints or floats to numeric type before calling to_datetime.\n",
      "  packed_data[\"dtt\"] = pd.to_datetime(packed_data[\"start_time\"], unit=\"ms\")\n"
     ]
    }
   ],
   "source": [
    "import pandas as pd\n",
    "\n",
    "packed_data[\"dtt\"] = pd.to_datetime(packed_data[\"start_time\"], unit=\"ms\")\n"
   ]
  },
  {
   "cell_type": "code",
   "execution_count": null,
   "metadata": {},
   "outputs": [],
   "source": []
  }
 ],
 "metadata": {
  "kernelspec": {
   "display_name": "venv",
   "language": "python",
   "name": "python3"
  },
  "language_info": {
   "codemirror_mode": {
    "name": "ipython",
    "version": 3
   },
   "file_extension": ".py",
   "mimetype": "text/x-python",
   "name": "python",
   "nbconvert_exporter": "python",
   "pygments_lexer": "ipython3",
   "version": "3.11.0"
  }
 },
 "nbformat": 4,
 "nbformat_minor": 2
}
