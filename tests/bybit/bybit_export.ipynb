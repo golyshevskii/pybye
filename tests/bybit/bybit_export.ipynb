{
 "cells": [
  {
   "cell_type": "code",
   "execution_count": 1,
   "metadata": {},
   "outputs": [],
   "source": [
    "import os\n",
    "import sys\n",
    "from dotenv import load_dotenv\n",
    "\n",
    "current_dir = os.getcwd()\n",
    "while True:\n",
    "    if os.path.basename(current_dir) == 'pybye':\n",
    "        break\n",
    "    parent_dir = os.path.dirname(current_dir)\n",
    "    if parent_dir == current_dir:\n",
    "        raise Exception(\"pybye not found\")\n",
    "    current_dir = parent_dir\n",
    "\n",
    "env_path = os.path.join(current_dir, '.env')\n",
    "load_dotenv(dotenv_path=env_path)\n",
    "\n",
    "BYBIT_DEMO_API_KEY = os.getenv(\"BYBIT_DEMO_API_KEY\")\n",
    "BYBIT_DEMO_API_SECRET = os.getenv(\"BYBIT_DEMO_API_SECRET\")\n",
    "\n",
    "sys.path.append(current_dir)"
   ]
  },
  {
   "cell_type": "code",
   "execution_count": 2,
   "metadata": {},
   "outputs": [],
   "source": [
    "from pybit.unified_trading import HTTP"
   ]
  },
  {
   "cell_type": "code",
   "execution_count": 3,
   "metadata": {},
   "outputs": [],
   "source": [
    "session = HTTP(\n",
    "    api_key=BYBIT_DEMO_API_KEY,\n",
    "    api_secret=BYBIT_DEMO_API_SECRET\n",
    ")"
   ]
  },
  {
   "cell_type": "code",
   "execution_count": 4,
   "metadata": {},
   "outputs": [],
   "source": [
    "from core.scripts.tools.dtt import to_unix\n",
    "\n",
    "data = session.get_kline(\n",
    "    category=\"spot\",\n",
    "    symbol=\"BTCUSDT\",\n",
    "    interval=\"60\"\n",
    ")"
   ]
  },
  {
   "cell_type": "code",
   "execution_count": 6,
   "metadata": {},
   "outputs": [],
   "source": [
    "coins = session.get_instruments_info(category=\"spot\")"
   ]
  }
 ],
 "metadata": {
  "kernelspec": {
   "display_name": "venv",
   "language": "python",
   "name": "python3"
  },
  "language_info": {
   "codemirror_mode": {
    "name": "ipython",
    "version": 3
   },
   "file_extension": ".py",
   "mimetype": "text/x-python",
   "name": "python",
   "nbconvert_exporter": "python",
   "pygments_lexer": "ipython3",
   "version": "3.11.0"
  }
 },
 "nbformat": 4,
 "nbformat_minor": 2
}
